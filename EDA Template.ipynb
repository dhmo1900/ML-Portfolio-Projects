{
 "cells": [
  {
   "cell_type": "markdown",
   "id": "0c0f98e3",
   "metadata": {},
   "source": [
    "# This is the template listing standard steps and sequences of EDA."
   ]
  },
  {
   "cell_type": "markdown",
   "id": "bb7de9fc",
   "metadata": {},
   "source": [
    "## EDA Steps: \n",
    "\n",
    "* Read the file\n",
    "* Head & Tail\n",
    "* Describe, Info and Shape\n",
    "* isnull, fillna and dropna\n",
    "* Plot\n"
   ]
  },
  {
   "cell_type": "markdown",
   "id": "31a36040",
   "metadata": {},
   "source": [
    "df = pd.read_csv()"
   ]
  },
  {
   "cell_type": "markdown",
   "id": "3a4cf69a",
   "metadata": {},
   "source": [
    "df.head()"
   ]
  },
  {
   "cell_type": "code",
   "execution_count": null,
   "id": "512d61ac",
   "metadata": {},
   "outputs": [],
   "source": []
  }
 ],
 "metadata": {
  "kernelspec": {
   "display_name": "Python 3.10.2 64-bit ('DS': conda)",
   "language": "python",
   "name": "python3102jvsc74a57bd049d57fd789aae3ee38ba0ab16baf6d8095e4c8fa6b56d18a03188908b0466cae"
  },
  "language_info": {
   "codemirror_mode": {
    "name": "ipython",
    "version": 3
   },
   "file_extension": ".py",
   "mimetype": "text/x-python",
   "name": "python",
   "nbconvert_exporter": "python",
   "pygments_lexer": "ipython3",
   "version": "3.10.2"
  }
 },
 "nbformat": 4,
 "nbformat_minor": 5
}
